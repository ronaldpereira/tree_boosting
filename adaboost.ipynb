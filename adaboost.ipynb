{
 "metadata": {
  "language_info": {
   "codemirror_mode": {
    "name": "ipython",
    "version": 3
   },
   "file_extension": ".py",
   "mimetype": "text/x-python",
   "name": "python",
   "nbconvert_exporter": "python",
   "pygments_lexer": "ipython3",
   "version": "3.8.5-final"
  },
  "orig_nbformat": 2,
  "kernelspec": {
   "name": "Python 3.8.5 64-bit ('.env')",
   "display_name": "Python 3.8.5 64-bit ('.env')",
   "metadata": {
    "interpreter": {
     "hash": "0f9625f198e360f327ca111a4a9ee93c4f26f3e831b2bd8ac6074e5a1e60840e"
    }
   }
  }
 },
 "nbformat": 4,
 "nbformat_minor": 2,
 "cells": [
  {
   "source": [
    "# AdaBoost\n",
    "\n",
    "### Nome: Ronald Davi Rodrigues Pereira\n",
    "### Matrícula: 2019711249\n",
    "\n",
    "In this project, we will implement the [Adaptative Boosting model (AdaBoost)](https://www.sciencedirect.com/science/article/pii/S002200009791504X) for the [Tic-Tac-Toe UCI Machine Learning Repository dataset](https://archive.ics.uci.edu/ml/datasets/Tic-Tac-Toe+Endgame).\n",
    "\n",
    "This dataset contains all possible Tic-Tac-Toe games possibilities and its outcome for a given player using the 'x' mark. The label of this dataset indicates if 'x' won or lost."
   ],
   "cell_type": "markdown",
   "metadata": {}
  },
  {
   "cell_type": "code",
   "execution_count": 1,
   "metadata": {},
   "outputs": [],
   "source": [
    "import numpy as np\n",
    "import pandas as pd\n",
    "from matplotlib import pyplot as plt\n",
    "from itertools import product"
   ]
  },
  {
   "source": [
    "## Reading the dataset as CSV file\n",
    "\n",
    "1. top-left-square: {x,o,b} -> 'tl'\n",
    "2. top-middle-square: {x,o,b} -> 'tm'\n",
    "3. top-right-square: {x,o,b} -> 'tr'\n",
    "4. middle-left-square: {x,o,b} -> 'ml'\n",
    "5. middle-middle-square: {x,o,b} -> 'mm'\n",
    "6. middle-right-square: {x,o,b} -> 'mr'\n",
    "7. bottom-left-square: {x,o,b} -> 'bl'\n",
    "8. bottom-middle-square: {x,o,b} -> 'bm'\n",
    "9. bottom-right-square: {x,o,b} -> 'br'\n",
    "10. Class: {positive,negative} -> 'label'"
   ],
   "cell_type": "markdown",
   "metadata": {}
  },
  {
   "cell_type": "code",
   "execution_count": 2,
   "metadata": {},
   "outputs": [
    {
     "output_type": "execute_result",
     "data": {
      "text/plain": [
       "  tl tm tr ml mm mr bl bm br     label\n",
       "0  x  x  x  x  o  o  x  o  o  positive\n",
       "1  x  x  x  x  o  o  o  x  o  positive\n",
       "2  x  x  x  x  o  o  o  o  x  positive\n",
       "3  x  x  x  x  o  o  o  b  b  positive\n",
       "4  x  x  x  x  o  o  b  o  b  positive"
      ],
      "text/html": "<div>\n<style scoped>\n    .dataframe tbody tr th:only-of-type {\n        vertical-align: middle;\n    }\n\n    .dataframe tbody tr th {\n        vertical-align: top;\n    }\n\n    .dataframe thead th {\n        text-align: right;\n    }\n</style>\n<table border=\"1\" class=\"dataframe\">\n  <thead>\n    <tr style=\"text-align: right;\">\n      <th></th>\n      <th>tl</th>\n      <th>tm</th>\n      <th>tr</th>\n      <th>ml</th>\n      <th>mm</th>\n      <th>mr</th>\n      <th>bl</th>\n      <th>bm</th>\n      <th>br</th>\n      <th>label</th>\n    </tr>\n  </thead>\n  <tbody>\n    <tr>\n      <th>0</th>\n      <td>x</td>\n      <td>x</td>\n      <td>x</td>\n      <td>x</td>\n      <td>o</td>\n      <td>o</td>\n      <td>x</td>\n      <td>o</td>\n      <td>o</td>\n      <td>positive</td>\n    </tr>\n    <tr>\n      <th>1</th>\n      <td>x</td>\n      <td>x</td>\n      <td>x</td>\n      <td>x</td>\n      <td>o</td>\n      <td>o</td>\n      <td>o</td>\n      <td>x</td>\n      <td>o</td>\n      <td>positive</td>\n    </tr>\n    <tr>\n      <th>2</th>\n      <td>x</td>\n      <td>x</td>\n      <td>x</td>\n      <td>x</td>\n      <td>o</td>\n      <td>o</td>\n      <td>o</td>\n      <td>o</td>\n      <td>x</td>\n      <td>positive</td>\n    </tr>\n    <tr>\n      <th>3</th>\n      <td>x</td>\n      <td>x</td>\n      <td>x</td>\n      <td>x</td>\n      <td>o</td>\n      <td>o</td>\n      <td>o</td>\n      <td>b</td>\n      <td>b</td>\n      <td>positive</td>\n    </tr>\n    <tr>\n      <th>4</th>\n      <td>x</td>\n      <td>x</td>\n      <td>x</td>\n      <td>x</td>\n      <td>o</td>\n      <td>o</td>\n      <td>b</td>\n      <td>o</td>\n      <td>b</td>\n      <td>positive</td>\n    </tr>\n  </tbody>\n</table>\n</div>"
     },
     "metadata": {},
     "execution_count": 2
    }
   ],
   "source": [
    "tic_tac_toe_df = pd.read_csv('data/tic-tac-toe.data', header=None)\n",
    "tic_tac_toe_df.columns = ['tl', 'tm', 'tr', 'ml', 'mm', 'mr', 'bl', 'bm', 'br', 'label']\n",
    "tic_tac_toe_df.head()"
   ]
  },
  {
   "source": [
    "## Dataset Preprocessing\n",
    "\n",
    "The objective here is to convert all symbols in the Tic-Tac-Toe dataset to numerical and boolean values.\n",
    "\n",
    "Features:\n",
    "\n",
    "- The 'x' is replaced by +1\n",
    "- The 'o' is replaced by -1\n",
    "- The 'b' is replaced by 0\n",
    "\n",
    "Labels:\n",
    "\n",
    "- The positive label is replaced by +1\n",
    "- The negative label is replaced by -1"
   ],
   "cell_type": "markdown",
   "metadata": {}
  },
  {
   "cell_type": "code",
   "execution_count": 3,
   "metadata": {},
   "outputs": [
    {
     "output_type": "execute_result",
     "data": {
      "text/plain": [
       "   tl  tm  tr  ml  mm  mr  bl  bm  br  label\n",
       "0   1   1   1   1  -1  -1   1  -1  -1      1\n",
       "1   1   1   1   1  -1  -1  -1   1  -1      1\n",
       "2   1   1   1   1  -1  -1  -1  -1   1      1\n",
       "3   1   1   1   1  -1  -1  -1   0   0      1\n",
       "4   1   1   1   1  -1  -1   0  -1   0      1"
      ],
      "text/html": "<div>\n<style scoped>\n    .dataframe tbody tr th:only-of-type {\n        vertical-align: middle;\n    }\n\n    .dataframe tbody tr th {\n        vertical-align: top;\n    }\n\n    .dataframe thead th {\n        text-align: right;\n    }\n</style>\n<table border=\"1\" class=\"dataframe\">\n  <thead>\n    <tr style=\"text-align: right;\">\n      <th></th>\n      <th>tl</th>\n      <th>tm</th>\n      <th>tr</th>\n      <th>ml</th>\n      <th>mm</th>\n      <th>mr</th>\n      <th>bl</th>\n      <th>bm</th>\n      <th>br</th>\n      <th>label</th>\n    </tr>\n  </thead>\n  <tbody>\n    <tr>\n      <th>0</th>\n      <td>1</td>\n      <td>1</td>\n      <td>1</td>\n      <td>1</td>\n      <td>-1</td>\n      <td>-1</td>\n      <td>1</td>\n      <td>-1</td>\n      <td>-1</td>\n      <td>1</td>\n    </tr>\n    <tr>\n      <th>1</th>\n      <td>1</td>\n      <td>1</td>\n      <td>1</td>\n      <td>1</td>\n      <td>-1</td>\n      <td>-1</td>\n      <td>-1</td>\n      <td>1</td>\n      <td>-1</td>\n      <td>1</td>\n    </tr>\n    <tr>\n      <th>2</th>\n      <td>1</td>\n      <td>1</td>\n      <td>1</td>\n      <td>1</td>\n      <td>-1</td>\n      <td>-1</td>\n      <td>-1</td>\n      <td>-1</td>\n      <td>1</td>\n      <td>1</td>\n    </tr>\n    <tr>\n      <th>3</th>\n      <td>1</td>\n      <td>1</td>\n      <td>1</td>\n      <td>1</td>\n      <td>-1</td>\n      <td>-1</td>\n      <td>-1</td>\n      <td>0</td>\n      <td>0</td>\n      <td>1</td>\n    </tr>\n    <tr>\n      <th>4</th>\n      <td>1</td>\n      <td>1</td>\n      <td>1</td>\n      <td>1</td>\n      <td>-1</td>\n      <td>-1</td>\n      <td>0</td>\n      <td>-1</td>\n      <td>0</td>\n      <td>1</td>\n    </tr>\n  </tbody>\n</table>\n</div>"
     },
     "metadata": {},
     "execution_count": 3
    }
   ],
   "source": [
    "replace_dict = {'x': 1, 'o':-1, 'b':0, 'positive':1, 'negative': -1}\n",
    "tic_tac_toe_df.replace(to_replace=replace_dict, inplace=True)\n",
    "tic_tac_toe_df.head()"
   ]
  },
  {
   "source": [
    "## AdaBoost model\n",
    "\n"
   ],
   "cell_type": "markdown",
   "metadata": {}
  },
  {
   "cell_type": "code",
   "execution_count": 4,
   "metadata": {},
   "outputs": [],
   "source": [
    "class AdaBoost():\n",
    "    def __init__(self, tic_tac_toe_df:pd.DataFrame):\n",
    "        self.dataset = tic_tac_toe_df\n",
    "        self.weights = np.ones(self.dataset.shape[0]) * 1/self.dataset.shape[0]\n",
    "\n",
    "    def classify_stump(self, stump:tuple, line_n:int):\n",
    "        feature_value = self.dataset.loc[line_n, stump[0]]\n",
    "        \n",
    "        if ((feature_value == replace_dict['x'] and stump[1]) or\n",
    "            (feature_value == replace_dict['b'] and stump[2]) or\n",
    "            (feature_value == replace_dict['o'] and stump[3])):\n",
    "            return stump[4]\n",
    "        \n",
    "        return -stump[4]\n",
    "\n",
    "    def find_best_stump(self):\n",
    "        best_stump = tuple()\n",
    "        best_empirical_error = float('inf')\n",
    "\n",
    "        positions = [position for position in self.dataset.columns[:-1]]\n",
    "        is_x = [False, True]\n",
    "        is_b = [False, True]\n",
    "        is_o = [False, True]\n",
    "        label = [-1, 1]\n",
    "\n",
    "        stumps = product(positions, is_x, is_b, is_o, label)\n",
    "\n",
    "        for stump in stumps:\n",
    "            current_error = 0\n",
    "            for i in range(self.dataset.shape[0]):\n",
    "                if self.classify_stump(stump, i) != self.dataset.loc[i, 'label']:\n",
    "                    current_error += self.weights[i]\n",
    "            if current_error < best_empirical_error:\n",
    "                best_empirical_error = current_error\n",
    "                best_stump = stump\n",
    "\n",
    "        try:\n",
    "            alpha = (1/2) * np.log2((1-best_empirical_error) / best_empirical_error)\n",
    "        except ZeroDivisionError:\n",
    "            alpha = 1.0\n",
    "\n",
    "        return alpha, best_stump\n",
    "\n",
    "    def update_weights(self, alpha:float, stump:tuple):\n",
    "        for i in range(self.weights.shape[0]):\n",
    "            self.weights[i] /= np.sum(self.weights)\n",
    "            self.weights[i] *= np.exp(-alpha * self.classify_stump(stump, i) * self.dataset.loc[i, 'label'])\n",
    "\n",
    "    def predict(self):\n",
    "        predictions = []\n",
    "        for n in range(self.dataset.shape[0]):\n",
    "            prediction = 0\n",
    "            for i in range(len(self.stumps)):\n",
    "                prediction += self.alphas[i] * self.classify_stump(self.stumps[i], n)\n",
    "            predictions.append(-1 if prediction < 0 else 1)\n",
    "\n",
    "        return predictions\n",
    "\n",
    "    def accuracy_score(self):\n",
    "        predictions = self.predict()\n",
    "        correct = 0\n",
    "        for n in range(self.dataset.shape[0]):\n",
    "            if predictions[n] == self.dataset.loc[n, 'label']:\n",
    "                correct += 1\n",
    "        return correct / self.dataset.shape[0]\n",
    "\n",
    "    def train(self, n_rounds:int=100, early_stopping_rounds:int=10):\n",
    "        self.alphas = []\n",
    "        self.stumps = []\n",
    "        self.accuracies = []\n",
    "        best_accuracy = 0\n",
    "        no_improvement_rounds = 0\n",
    "\n",
    "        for n in range(n_rounds):\n",
    "            alpha, stump = self.find_best_stump()\n",
    "            self.alphas.append(alpha)\n",
    "            self.stumps.append(stump)\n",
    "\n",
    "            accuracy = self.accuracy_score()\n",
    "\n",
    "            self.update_weights(alpha, stump)\n",
    "\n",
    "            if accuracy <= best_accuracy:\n",
    "                no_improvement_rounds += 1\n",
    "            else:\n",
    "                best_accuracy = accuracy\n",
    "                no_improvement_rounds = 0\n",
    "\n",
    "            if no_improvement_rounds >= early_stopping_rounds:\n",
    "                print('-'*10 + 'Early Stopping limit reached' + '-'*10)\n",
    "                print(f'[Best Round {n-no_improvement_rounds+1}] Train_Accuracy: {best_accuracy:.5f}')\n",
    "                break\n",
    "\n",
    "            print(f'[Round {n+1:04d}] Train_Accuracy: {accuracy:.5f}')"
   ]
  },
  {
   "cell_type": "code",
   "execution_count": 5,
   "metadata": {},
   "outputs": [],
   "source": [
    "ada_boost = AdaBoost(tic_tac_toe_df)"
   ]
  },
  {
   "cell_type": "code",
   "execution_count": 6,
   "metadata": {
    "tags": []
   },
   "outputs": [
    {
     "output_type": "stream",
     "name": "stdout",
     "text": [
      "[Round 0001] Train_Accuracy: 0.69937\n",
      "[Round 0002] Train_Accuracy: 0.69937\n",
      "[Round 0003] Train_Accuracy: 0.63883\n",
      "[Round 0004] Train_Accuracy: 0.70042\n",
      "[Round 0005] Train_Accuracy: 0.74426\n",
      "[Round 0006] Train_Accuracy: 0.69415\n",
      "[Round 0007] Train_Accuracy: 0.68789\n",
      "[Round 0008] Train_Accuracy: 0.72651\n",
      "[Round 0009] Train_Accuracy: 0.74322\n",
      "[Round 0010] Train_Accuracy: 0.75052\n",
      "[Round 0011] Train_Accuracy: 0.76305\n",
      "[Round 0012] Train_Accuracy: 0.76305\n",
      "[Round 0013] Train_Accuracy: 0.78497\n",
      "[Round 0014] Train_Accuracy: 0.78184\n",
      "[Round 0015] Train_Accuracy: 0.79645\n",
      "[Round 0016] Train_Accuracy: 0.77975\n",
      "[Round 0017] Train_Accuracy: 0.80480\n",
      "[Round 0018] Train_Accuracy: 0.80167\n",
      "[Round 0019] Train_Accuracy: 0.82568\n",
      "[Round 0020] Train_Accuracy: 0.83403\n",
      "[Round 0021] Train_Accuracy: 0.91023\n",
      "[Round 0022] Train_Accuracy: 0.86326\n",
      "[Round 0023] Train_Accuracy: 0.85699\n",
      "[Round 0024] Train_Accuracy: 0.83612\n",
      "[Round 0025] Train_Accuracy: 0.83194\n",
      "[Round 0026] Train_Accuracy: 0.84551\n",
      "[Round 0027] Train_Accuracy: 0.85282\n",
      "[Round 0028] Train_Accuracy: 0.85699\n",
      "[Round 0029] Train_Accuracy: 0.85491\n",
      "[Round 0030] Train_Accuracy: 0.84238\n",
      "----------Early Stopping limit reached----------\n",
      "[Best Round 21] Train_Accuracy: 0.91023\n"
     ]
    }
   ],
   "source": [
    "ada_boost.train()"
   ]
  }
 ]
}